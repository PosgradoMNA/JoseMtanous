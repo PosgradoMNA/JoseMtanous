{
 "cells": [
  {
   "cell_type": "markdown",
   "metadata": {},
   "source": [
    "# José Mtanous A00169781\n",
    "## Semana 5 Curso de IBM Data Analysis with Python\n",
    "### Module 2 - Data Wrangling"
   ]
  },
  {
   "cell_type": "code",
   "execution_count": null,
   "metadata": {},
   "outputs": [],
   "source": [
    "# Preprocesado de datos en Python\n",
    "# -- Identificación de datos faltantes\n",
    "# -- Formateo de datos\n",
    "# -- Normalización de datos\n",
    "# -- Data Binning\n",
    "# -- Conversión de datos categóricos a numéricos"
   ]
  },
  {
   "cell_type": "code",
   "execution_count": null,
   "metadata": {},
   "outputs": [],
   "source": [
    "# Datos faltantes\n",
    "# Existen varias estrategias para tratar datos faltantes, si tenemos un data set muy grande, y solamente le faltan datos\n",
    "# algunos renglones, podemos simplemente borrar los renglones con datos faltantes\n",
    "# en pandas lo podemos hacer de la siguiente manera:\n",
    "\n",
    "import pandas as pd\n",
    "import numpy as np\n",
    "\n",
    "df = pd.DataFrame([])\n",
    "df.dropna()\n",
    "# tenemos que usar la opción de axis=o para eliminar renglones y axis=1 para eliminar columnas\n",
    "\n",
    "# Si nuestro dataset no es muy grande o tenemos muchos renglones con datos faltantes\n",
    "# otra manera de tratar la pérdida de datos es remplazando los valores faltantes por el promedio\n",
    "# del valor de la columna. Esto lo modemos hacer en ponadas de la siguiente manera:\n",
    "\n",
    "promedio = df[\"columna\"].mean()\n",
    "df[\"columna\"].replace(np.nan,promedio) \n",
    "\n",
    "\n"
   ]
  },
  {
   "cell_type": "code",
   "execution_count": null,
   "metadata": {},
   "outputs": [],
   "source": [
    "# Formateo de datos\n",
    "# En python pandas podemos facilmente convertir columnas a otros formatos, por ejemplo:\n",
    "\n",
    "df['kelvin'] = 273.15 * df['kelvin']\n",
    "df.rename(columns={'kelvin':'celcius'}, inplace=True)\n",
    "\n",
    "# También podemos cambiar (cast) el tipo de datos de las columnas en un data frame de la sigueinte manera:\n",
    "\n",
    "# desplegamos los tipos de datos del dataframe\n",
    "df.dtypes()\n",
    "\n",
    "# cambiamos el tipo de dato de la siguinete manera:\n",
    "df['celcius'] = df['celcius'].astype(float)"
   ]
  },
  {
   "cell_type": "code",
   "execution_count": null,
   "metadata": {},
   "outputs": [],
   "source": [
    "# Normalización de Datos\n",
    "\n",
    "# existen varias estrategias de normalización de datos, las 3 que describe el curso son:\n",
    "# Simple Feature Scaling: xn = x/xmax\n",
    "df['x'] = df['x'] / df['x'].max()\n",
    "\n",
    "# MinMax: xn = (x - xmin) / (xmax - xmin)\n",
    "df['x'] = (df['x'] - df['x'].min()) / (df['x'].max() - df['x'].min())\n",
    "\n",
    "# zcore = xn = (x - mean) / sigma\n",
    "df['x'] = (df['x'] - df['x'].mean()) / df['x'].std()\n",
    "\n",
    "\n"
   ]
  },
  {
   "cell_type": "code",
   "execution_count": null,
   "metadata": {},
   "outputs": [],
   "source": [
    "# Binning\n",
    "# agrupamos datos en 'bins'\n",
    "# esto nos sirve para reducir la resolución de los datos, se puede usar mapear datos numericos a categóricos\n",
    "\n",
    "#1 Creamos los rangos\n",
    "bins = np.linspace(min(df['x']), max(df['x']),numBins)\n",
    "# Generamos las etiquetas de cada Bin\n",
    "groupNames = ['Groupo1','Groupo2','Groupo3']\n",
    "#hacemos el mapeo con la funcion cut de pandas\n",
    "df['x_binned'] = pd.cut(df['x'],bins,labels=groupNames, include_lowest=True)\n",
    "\n"
   ]
  },
  {
   "cell_type": "code",
   "execution_count": null,
   "metadata": {},
   "outputs": [],
   "source": [
    "# Mapeo de variables categóricas a numéricas\n",
    "# Cuando tenemos variable categóricas una técnica para \n",
    "# convertirlas a númericas es usar one hot encoding o transformar las categorias a features binarios\n",
    "# una manera de hacer esto es usando la funcion get_dummies\n",
    "pd.get_dummies(df'featureCategorico')\n"
   ]
  }
 ],
 "metadata": {
  "kernelspec": {
   "display_name": "Python 3.7.3 64-bit",
   "language": "python",
   "name": "python3"
  },
  "language_info": {
   "codemirror_mode": {
    "name": "ipython",
    "version": 3
   },
   "file_extension": ".py",
   "mimetype": "text/x-python",
   "name": "python",
   "nbconvert_exporter": "python",
   "pygments_lexer": "ipython3",
   "version": "3.7.3"
  },
  "orig_nbformat": 4,
  "vscode": {
   "interpreter": {
    "hash": "31f2aee4e71d21fbe5cf8b01ff0e069b9275f58929596ceb00d14d90e3e16cd6"
   }
  }
 },
 "nbformat": 4,
 "nbformat_minor": 2
}

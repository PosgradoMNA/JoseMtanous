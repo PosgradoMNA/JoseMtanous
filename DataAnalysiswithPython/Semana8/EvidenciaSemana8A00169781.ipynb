{
 "cells": [
  {
   "cell_type": "markdown",
   "metadata": {},
   "source": [
    "# Jose Mtanous A00169781\n",
    "## Semana 8: Data Analysis with Python (IBM) -- Módulo 5"
   ]
  },
  {
   "cell_type": "markdown",
   "metadata": {},
   "source": [
    "#### Evaluación de Modelos\n",
    "La evaluación de modelos nos indica como se desempeña nuestro modelo con datos reales. Una técnica para evaluar el desempeño de nuestro modelo es separando de manera cuidados los datos.  \n",
    "Para lograr esto, debemos separar nuestros datos en al menos dos grupos:\n",
    "- Datos de entrenamiento\n",
    "- Datos de prueba\n",
    "\n",
    "En el proceso de entrenamiento unicamente usamos la partición de entrenamiento, una vez concluida esta estapa, evaluamos el desempeño usando exclusivamente los datos de prueba. Es fundamental cuidar que los datos de preba no sean vistos por el modelo en la etapa de entrenamiento.\n"
   ]
  },
  {
   "cell_type": "code",
   "execution_count": 2,
   "metadata": {},
   "outputs": [],
   "source": [
    "# Para particionar los datos en entrenamiento y prueba podemos usar la función train_test_split de la siguiente manera:\n",
    "from sklearn.model_selection import train_test_split\n",
    "\n",
    "X=[1,2,3,4,5,6,7,8,9,10]\n",
    "y=[1,0,0,0,1,1,1,0,0,0]\n",
    "\n",
    "X_entrenamiento, X_prueba, y_entrenamiento, y_prueba = train_test_split(X,y,test_size=0.2, random_state=0)"
   ]
  },
  {
   "cell_type": "markdown",
   "metadata": {},
   "source": [
    "#### Métricas de Desempeño\n",
    "Una manera común de evaluar nuestro modelo es usando el error de generalización, una manera aproximada de medir este error es midiendo el desempeño de nuestro modelo con los datos de prueba.  \n",
    "Una manera de medir de manera más precisa el error generalizado es usando validación cruzada, con validación cruzada dividimos nuesto de set de datos en pequeños conjuntos los cuales usamos para entrenar y validar nuesto modelos varias veces y promediar valor de desempeño.  \n",
    "El score por defualt que usa la librería de slearn es $R^2 score$"
   ]
  },
  {
   "cell_type": "code",
   "execution_count": null,
   "metadata": {},
   "outputs": [],
   "source": [
    "# La validación cruzada se puede usar con \n",
    "from sklearn.model_selection import cross_val_score\n",
    "scores = cross_val_score(lr, X, y, cv=3)"
   ]
  },
  {
   "cell_type": "markdown",
   "metadata": {},
   "source": [
    "#### Evaluación de Modelo para regresiones polinomiales\n",
    "Los modelos polinomiales de alto grado son muy flexibles y permiten ajustarse bien a datos con distribuciones complejas, sin embargo, esta flexibilidad puede generar un modelo que se desempeñe muy bien con los datos de entrenamiento pero baje su desempeño con los datos de prueba, a este fenómeno se le conoco como sobreentrenamiento o sobreajuste.\n",
    "\n",
    "Una manera iterativa de encontrar el grado óptimo del polinomio es variando su grado y midiendo su desempeño con los datos de prueba, el grado óptimo es el que produce un error menor al momento de usar los datos de prueba."
   ]
  },
  {
   "cell_type": "markdown",
   "metadata": {},
   "source": [
    "#### Regresion Ridge\n",
    "Una manera de controlar los coeficientes de los factores de orden superior es modificar nuestra función de costo para que penalice estos términos, de esta manera al resolver la regresión aquellas soluciones con coeficientes grandes no serán favorecidas. Sklearn incluye un modelo que implementa esta estrategia, el modelo de regresión Ridge.\n"
   ]
  },
  {
   "cell_type": "code",
   "execution_count": null,
   "metadata": {},
   "outputs": [],
   "source": [
    "### Para usar Ridge, simplemnte instanciamos un objeto de este tipo y lo usamos como nuestro modelo\n",
    "from sklearn.linear_model import Ridge\n",
    "ridgeRegresor = Ridge(alpha=0.01)\n",
    "ridgeRegresor.fit(X_entrenamiento,y_entrenamiento)\n",
    "y_hat = ridgeRegresor.predict(X_prueba)\n",
    "\n"
   ]
  },
  {
   "cell_type": "markdown",
   "metadata": {},
   "source": [
    "#### Busqueda de Malla\n",
    "Cuando queremos probar varias compbinaciones de hyperparámetros y comparar su desempeño, una herramienta muy útil es la busqueda de malla, esta herramienta evalua todas las combianciones de hyperparámetros de interés y nos entrega los resultados de evaluación de cada combinación, además de la combinación de mejor desempeño."
   ]
  },
  {
   "cell_type": "code",
   "execution_count": null,
   "metadata": {},
   "outputs": [],
   "source": [
    "### Para usar la busqueda de malla tenemos que definir los parámetros que queremos probar de la siguiente manera\n",
    "from sklearn.model_selection import GridSearchCV\n",
    "\n",
    "parametros = [{'alpha':[0.001,0.1,1]}]\n",
    "ridgeRegresor = Ridge()\n",
    "busquedaMAlla = GridSearchCV(ridgeRegresor,parametros,cv=4)\n",
    "busquedaMAlla.fit(X,y)\n",
    "busquedaMAlla.best_estimator_\n",
    "scores = busquedaMAlla.cv_results_"
   ]
  },
  {
   "cell_type": "code",
   "execution_count": null,
   "metadata": {},
   "outputs": [],
   "source": [
    "NM"
   ]
  }
 ],
 "metadata": {
  "kernelspec": {
   "display_name": "Python 3.7.3 64-bit",
   "language": "python",
   "name": "python3"
  },
  "language_info": {
   "codemirror_mode": {
    "name": "ipython",
    "version": 3
   },
   "file_extension": ".py",
   "mimetype": "text/x-python",
   "name": "python",
   "nbconvert_exporter": "python",
   "pygments_lexer": "ipython3",
   "version": "3.7.3"
  },
  "orig_nbformat": 4,
  "vscode": {
   "interpreter": {
    "hash": "31f2aee4e71d21fbe5cf8b01ff0e069b9275f58929596ceb00d14d90e3e16cd6"
   }
  }
 },
 "nbformat": 4,
 "nbformat_minor": 2
}

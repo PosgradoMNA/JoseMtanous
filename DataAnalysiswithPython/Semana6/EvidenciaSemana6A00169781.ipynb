{
 "cells": [
  {
   "cell_type": "markdown",
   "metadata": {},
   "source": [
    "# José Mtanous A00169781\n",
    "### Semana 6\n",
    "###  Python for Data Science Module 3 - Exploratory Data Analysis"
   ]
  },
  {
   "cell_type": "markdown",
   "metadata": {},
   "source": [
    "### Exploratory Data Analysis o EDA\n",
    "Sirve para\n",
    "- Resumir las características principales de los datos\n",
    "- Entender mejor el conjunto de datos con el que vamos a trabajar\n",
    "- Encontrar relaciones entre variables\n",
    "- Extraer las variables más importantes"
   ]
  },
  {
   "cell_type": "markdown",
   "metadata": {},
   "source": [
    "### Estadística descriptiva\n",
    "- Sirve para describir características simples de nuestros datos"
   ]
  },
  {
   "cell_type": "code",
   "execution_count": 7,
   "metadata": {},
   "outputs": [
    {
     "data": {
      "text/html": [
       "<div>\n",
       "<style scoped>\n",
       "    .dataframe tbody tr th:only-of-type {\n",
       "        vertical-align: middle;\n",
       "    }\n",
       "\n",
       "    .dataframe tbody tr th {\n",
       "        vertical-align: top;\n",
       "    }\n",
       "\n",
       "    .dataframe thead th {\n",
       "        text-align: right;\n",
       "    }\n",
       "</style>\n",
       "<table border=\"1\" class=\"dataframe\">\n",
       "  <thead>\n",
       "    <tr style=\"text-align: right;\">\n",
       "      <th></th>\n",
       "      <th>col1</th>\n",
       "      <th>col2</th>\n",
       "      <th>col3</th>\n",
       "    </tr>\n",
       "  </thead>\n",
       "  <tbody>\n",
       "    <tr>\n",
       "      <th>count</th>\n",
       "      <td>2.00000</td>\n",
       "      <td>2.00000</td>\n",
       "      <td>2.00000</td>\n",
       "    </tr>\n",
       "    <tr>\n",
       "      <th>mean</th>\n",
       "      <td>2.50000</td>\n",
       "      <td>3.50000</td>\n",
       "      <td>4.50000</td>\n",
       "    </tr>\n",
       "    <tr>\n",
       "      <th>std</th>\n",
       "      <td>2.12132</td>\n",
       "      <td>2.12132</td>\n",
       "      <td>2.12132</td>\n",
       "    </tr>\n",
       "    <tr>\n",
       "      <th>min</th>\n",
       "      <td>1.00000</td>\n",
       "      <td>2.00000</td>\n",
       "      <td>3.00000</td>\n",
       "    </tr>\n",
       "    <tr>\n",
       "      <th>25%</th>\n",
       "      <td>1.75000</td>\n",
       "      <td>2.75000</td>\n",
       "      <td>3.75000</td>\n",
       "    </tr>\n",
       "    <tr>\n",
       "      <th>50%</th>\n",
       "      <td>2.50000</td>\n",
       "      <td>3.50000</td>\n",
       "      <td>4.50000</td>\n",
       "    </tr>\n",
       "    <tr>\n",
       "      <th>75%</th>\n",
       "      <td>3.25000</td>\n",
       "      <td>4.25000</td>\n",
       "      <td>5.25000</td>\n",
       "    </tr>\n",
       "    <tr>\n",
       "      <th>max</th>\n",
       "      <td>4.00000</td>\n",
       "      <td>5.00000</td>\n",
       "      <td>6.00000</td>\n",
       "    </tr>\n",
       "  </tbody>\n",
       "</table>\n",
       "</div>"
      ],
      "text/plain": [
       "          col1     col2     col3\n",
       "count  2.00000  2.00000  2.00000\n",
       "mean   2.50000  3.50000  4.50000\n",
       "std    2.12132  2.12132  2.12132\n",
       "min    1.00000  2.00000  3.00000\n",
       "25%    1.75000  2.75000  3.75000\n",
       "50%    2.50000  3.50000  4.50000\n",
       "75%    3.25000  4.25000  5.25000\n",
       "max    4.00000  5.00000  6.00000"
      ]
     },
     "execution_count": 7,
     "metadata": {},
     "output_type": "execute_result"
    }
   ],
   "source": [
    "# Algunos métodos que podemos usar para extrar estadísticas descriptivas de nuestro\n",
    "# conjunto de datos son:\n",
    "import pandas as pd\n",
    "\n",
    "df = pd.DataFrame([[1,2,3],[4,5,6]])\n",
    "df.columns = ['col1','col2','col3']\n",
    "df.describe()\n"
   ]
  },
  {
   "cell_type": "code",
   "execution_count": 13,
   "metadata": {},
   "outputs": [
    {
     "data": {
      "text/plain": [
       "col1  col2  col3\n",
       "uno   2     3       1\n",
       "      5     6       1\n",
       "dtype: int64"
      ]
     },
     "execution_count": 13,
     "metadata": {},
     "output_type": "execute_result"
    }
   ],
   "source": [
    "# para variables categóricas, podemos usar value_count()\n",
    "import pandas as pd\n",
    "\n",
    "df = pd.DataFrame([['uno',2,3],['uno',5,6]])\n",
    "df.columns = ['col1','col2','col3']\n",
    "df.value_counts()"
   ]
  },
  {
   "cell_type": "code",
   "execution_count": null,
   "metadata": {},
   "outputs": [],
   "source": [
    "# Tambien podemos usar gráficas para entender mejor el tipo de datos que stamos usando\n",
    "# Por ejemplo podemos usar gráficas de caja y bigotes o scatter plots para \n",
    "# desplegar visualmente algunas propiedades de nuestro conjunto de datos\n",
    "\n",
    "import seaborn as sns\n",
    "sns.boxplot(x='col2', y='col3', data=df)"
   ]
  },
  {
   "cell_type": "code",
   "execution_count": null,
   "metadata": {},
   "outputs": [],
   "source": [
    "# scatter plot\n",
    "# Sirve para ver la relación entre 2 variables\n",
    "import matplotlib.pyplot as plt\n",
    "\n",
    "plt.scatter(df['col2'],df['col3'])\n",
    "plt.title('Mi gráfica')\n",
    "plt.xlabel('Etiqueta eje x')\n",
    "plt.ylabel('Etiqueta eje y')\n"
   ]
  },
  {
   "cell_type": "markdown",
   "metadata": {},
   "source": [
    "### Grouping"
   ]
  },
  {
   "cell_type": "code",
   "execution_count": null,
   "metadata": {},
   "outputs": [],
   "source": [
    "# Podemos agrupar los datos y calcular valores agregados con estas agrupaciones\n",
    "# Para agrupar datos podemos usar pandas group by de la siguinete manera\n",
    "\n",
    "dfAgrupada = df.groupby(['col1','col2']).mean()\n",
    "\n",
    "# En muchas ocasiones es dificil rankear los datos agrupados,\n",
    "# muchas veces usando una table pivote se puede mejorar esto\n",
    "\n",
    "dfAgrupadaPivot = dfAgrupada.pivot(index='col1', columns=['col2'])\n",
    "\n",
    "# Otra herramienta que ayuda a visualizar los datos agrupados\n",
    "# son las gráficas de calor\n",
    "\n",
    "plt.pcolor(dfAgrupadaPivot, cmap='RbBu')\n",
    "plt.colorbar()\n",
    "plt.show()"
   ]
  },
  {
   "cell_type": "markdown",
   "metadata": {},
   "source": [
    "#### Análisis de Varianza\n",
    "Para medir el impacto de una variable categoríca sobre otra, podemos usar el método ANOVA. Este método nos arroja 2 valores, el f test y el valor p."
   ]
  },
  {
   "cell_type": "markdown",
   "metadata": {},
   "source": [
    "#### Correlación\n",
    "La correlación mide que tan dependientes son las variables entre si. Si están correlacionadas la variación de una variable implica la variación de la otra.\n",
    "Para medir la correlación entre variables usamos la correlación de Pearson. Esta prueba nos arroja 2 valores, un coeficiente y un valor p.\n",
    "- +1 alta relación positiva\n",
    "- -1 alta relación negativa\n",
    "- 0 no hay relación"
   ]
  },
  {
   "cell_type": "code",
   "execution_count": null,
   "metadata": {},
   "outputs": [],
   "source": [
    "from scipy import stats\n",
    "\n",
    "pearson_coef, p_value = stats.pearsonr(df['col1'], df['col3'])"
   ]
  },
  {
   "cell_type": "code",
   "execution_count": null,
   "metadata": {},
   "outputs": [],
   "source": []
  }
 ],
 "metadata": {
  "kernelspec": {
   "display_name": "Python 3.7.3 64-bit",
   "language": "python",
   "name": "python3"
  },
  "language_info": {
   "codemirror_mode": {
    "name": "ipython",
    "version": 3
   },
   "file_extension": ".py",
   "mimetype": "text/x-python",
   "name": "python",
   "nbconvert_exporter": "python",
   "pygments_lexer": "ipython3",
   "version": "3.7.3"
  },
  "orig_nbformat": 4,
  "vscode": {
   "interpreter": {
    "hash": "31f2aee4e71d21fbe5cf8b01ff0e069b9275f58929596ceb00d14d90e3e16cd6"
   }
  }
 },
 "nbformat": 4,
 "nbformat_minor": 2
}

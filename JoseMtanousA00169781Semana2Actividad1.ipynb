{
  "cells": [
    {
      "cell_type": "markdown",
      "metadata": {
        "colab_type": "text",
        "id": "view-in-github"
      },
      "source": [
        "<a href=\"https://colab.research.google.com/github/tec03/ParaAssignment01-/blob/main/assignment01.ipynb\" target=\"_parent\"><img src=\"https://colab.research.google.com/assets/colab-badge.svg\" alt=\"Open In Colab\"/></a>"
      ]
    },
    {
      "cell_type": "markdown",
      "metadata": {},
      "source": [
        "# José Mtanous   A00169781@tec.mx\n",
        "Semana 2 Actividad 1"
      ]
    },
    {
      "cell_type": "markdown",
      "metadata": {},
      "source": [
        "File handling"
      ]
    },
    {
      "cell_type": "code",
      "execution_count": 5,
      "metadata": {
        "id": "mxM_WppZPMFx"
      },
      "outputs": [
        {
          "name": "stdout",
          "output_type": "stream",
          "text": [
            "Line 1\n",
            "Line 2\n",
            "10\n",
            "20\n",
            "1,2,3\n",
            "\n",
            "\n",
            "File  ExampleFileRead.txt  is closed\n",
            "Line 1\n",
            "Line 2\n",
            "10\n",
            "20\n",
            "1,2,3\n",
            "\n",
            "\n"
          ]
        }
      ],
      "source": [
        "with open(\"ExampleFileRead.txt\") as File1:\n",
        "    fileLines = File1.read()\n",
        "    print(fileLines)\n",
        "\n",
        "print(\"File \",File1.name,\" is closed\") if File1.closed else print(\"File \",File1.name,\" is open\")\n",
        "print(fileLines)"
      ]
    },
    {
      "cell_type": "code",
      "execution_count": null,
      "metadata": {},
      "outputs": [],
      "source": []
    }
  ],
  "metadata": {
    "colab": {
      "include_colab_link": true,
      "name": "assignment01.ipynb",
      "provenance": []
    },
    "kernelspec": {
      "display_name": "Python 3.7.3 64-bit",
      "language": "python",
      "name": "python3"
    },
    "language_info": {
      "codemirror_mode": {
        "name": "ipython",
        "version": 3
      },
      "file_extension": ".py",
      "mimetype": "text/x-python",
      "name": "python",
      "nbconvert_exporter": "python",
      "pygments_lexer": "ipython3",
      "version": "3.7.3"
    },
    "vscode": {
      "interpreter": {
        "hash": "31f2aee4e71d21fbe5cf8b01ff0e069b9275f58929596ceb00d14d90e3e16cd6"
      }
    }
  },
  "nbformat": 4,
  "nbformat_minor": 0
}

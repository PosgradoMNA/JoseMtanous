{
  "cells": [
    {
      "cell_type": "markdown",
      "metadata": {
        "colab_type": "text",
        "id": "view-in-github"
      },
      "source": [
        "<a href=\"https://colab.research.google.com/github/tec03/ParaAssignment01-/blob/main/assignment01.ipynb\" target=\"_parent\"><img src=\"https://colab.research.google.com/assets/colab-badge.svg\" alt=\"Open In Colab\"/></a>"
      ]
    },
    {
      "cell_type": "markdown",
      "metadata": {},
      "source": [
        "# José Mtanous   A00169781@tec.mx\n",
        "Semana 3"
      ]
    },
    {
      "cell_type": "markdown",
      "metadata": {},
      "source": [
        "### NumPy Arrays"
      ]
    },
    {
      "cell_type": "markdown",
      "metadata": {},
      "source": [
        "NumPy es una librería de Python que nos permite realizar operaciones matemáticas de manera compacta y eficiente. Una estructura de datos clave en NumPy es el arreglo, el arreglo de Numpy nos permite realizar operciones matriciales de manera eficiente y compacta. Los arreglos de numpy o ndarray pueden ser de simensions arbitrarias."
      ]
    },
    {
      "cell_type": "code",
      "execution_count": 18,
      "metadata": {},
      "outputs": [
        {
          "data": {
            "text/plain": [
              "array([0, 1, 2, 3, 4])"
            ]
          },
          "execution_count": 18,
          "metadata": {},
          "output_type": "execute_result"
        }
      ],
      "source": [
        "oneDimensionArray = np.array([0, 1, 2, 3, 4])\n",
        "oneDimensionArray"
      ]
    },
    {
      "cell_type": "code",
      "execution_count": 17,
      "metadata": {},
      "outputs": [
        {
          "data": {
            "text/plain": [
              "array([[11, 12, 13],\n",
              "       [21, 22, 23],\n",
              "       [31, 32, 33]])"
            ]
          },
          "execution_count": 17,
          "metadata": {},
          "output_type": "execute_result"
        }
      ],
      "source": [
        "twoDimensionArrayOrMatrix = np.array([[11, 12, 13], [21, 22, 23], [31, 32, 33]])\n",
        "twoDimensionArrayOrMatrix"
      ]
    },
    {
      "cell_type": "code",
      "execution_count": 21,
      "metadata": {},
      "outputs": [],
      "source": [
        "# Al usar arreglos podemos hacer operciones matriciales y vectoriales de manera muy sencilla\n",
        "\n",
        "import numpy as np\n",
        "a = np.array([2, 1])\n",
        "b = np.array([3, 4])\n",
        "\n",
        "suma = a + b\n",
        "resta = a - b\n",
        "division = a / b\n",
        "hadamard = a * b\n",
        "productoPunto = np.dot(a,b) # o productoPunto = a.dot(b)\n"
      ]
    },
    {
      "cell_type": "code",
      "execution_count": 23,
      "metadata": {},
      "outputs": [
        {
          "data": {
            "text/plain": [
              "array([1, 2, 3])"
            ]
          },
          "execution_count": 23,
          "metadata": {},
          "output_type": "execute_result"
        }
      ],
      "source": [
        "# Tambien podemos extraer partes del arreglo\n",
        "c = np.array([20, 1, 2, 3, 4])\n",
        "corte = c[1:4]\n",
        "corte"
      ]
    },
    {
      "cell_type": "markdown",
      "metadata": {},
      "source": [
        "### APIs"
      ]
    },
    {
      "cell_type": "markdown",
      "metadata": {},
      "source": [
        "Desde Python podemos acceder a diferentes servicios de una manera abstracta y sencilla usando APIs. Las APIs son analogas a las funciones, es decir, llevan a cabo una tarea y nos abstraen de los detalles de implementación, generalmente para usar un API solo necesitamos proporcionar los datos de entra en un formato correcto. Un ejemplo de uso de API muy usado en Python es la librería de Pandas o la de HTTP. Existen muchísmas librerías que podemos usar en Python para pode acceder a muchismos servicios."
      ]
    },
    {
      "cell_type": "code",
      "execution_count": null,
      "metadata": {},
      "outputs": [],
      "source": [
        "# Pandas\n",
        "import pandas as pd\n",
        "data = {'col_1': [3, 2, 1, 0], 'col_2': ['a', 'b', 'c', 'd']}\n",
        "pd.DataFrame.from_dict(data)"
      ]
    },
    {
      "cell_type": "code",
      "execution_count": 26,
      "metadata": {},
      "outputs": [
        {
          "data": {
            "text/plain": [
              "200"
            ]
          },
          "execution_count": 26,
          "metadata": {},
          "output_type": "execute_result"
        }
      ],
      "source": [
        "# HTTP\n",
        "import requests\n",
        "url='https://www.ibm.com/'\n",
        "r=requests.get(url)\n",
        "r.status_code\n"
      ]
    }
  ],
  "metadata": {
    "colab": {
      "include_colab_link": true,
      "name": "assignment01.ipynb",
      "provenance": []
    },
    "kernelspec": {
      "display_name": "Python 3.7.3 64-bit",
      "language": "python",
      "name": "python3"
    },
    "language_info": {
      "codemirror_mode": {
        "name": "ipython",
        "version": 3
      },
      "file_extension": ".py",
      "mimetype": "text/x-python",
      "name": "python",
      "nbconvert_exporter": "python",
      "pygments_lexer": "ipython3",
      "version": "3.7.3"
    },
    "vscode": {
      "interpreter": {
        "hash": "31f2aee4e71d21fbe5cf8b01ff0e069b9275f58929596ceb00d14d90e3e16cd6"
      }
    }
  },
  "nbformat": 4,
  "nbformat_minor": 0
}
